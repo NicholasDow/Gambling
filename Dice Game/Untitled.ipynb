{
 "cells": [
  {
   "cell_type": "markdown",
   "metadata": {},
   "source": [
    "I just wanted to simulate the saint peters burg paradox to try to figure out how the large tails would affect the simulations. While the expected value of this game is infinite I wanted to try to see if the simulations more often than not landed around 2^E(n) = 4 instead of E(2^n) = $\\infty$"
   ]
  },
  {
   "cell_type": "code",
   "execution_count": 1,
   "metadata": {},
   "outputs": [],
   "source": [
    "Payout = 0\n",
    "p = .5\n",
    "flips = 0\n",
    "import random\n",
    "\n",
    "    "
   ]
  },
  {
   "cell_type": "code",
   "execution_count": 23,
   "metadata": {},
   "outputs": [
    {
     "data": {
      "text/plain": [
       "34.3182"
      ]
     },
     "execution_count": 23,
     "metadata": {},
     "output_type": "execute_result"
    }
   ],
   "source": [
    "def pay(n):\n",
    "    return 2**(n + 1)\n",
    "\n",
    "def generate_flip(p):\n",
    "    if random.random() > p:\n",
    "        return True\n",
    "    else:\n",
    "        return False\n",
    "\n",
    "def single_sim(flip, p):\n",
    "    if generate_flip(p):\n",
    "        return pay(flip)\n",
    "    else:\n",
    "        return single_sim(flip+1, p)\n",
    "\n",
    "def sim(number, p):\n",
    "    sims = []\n",
    "    for _ in range(number):\n",
    "        sims.append(single_sim(0, p))\n",
    "    return sims\n",
    "x = sim(10000, .5)\n",
    "sum(x)/len(x)"
   ]
  },
  {
   "cell_type": "markdown",
   "metadata": {},
   "source": [
    "Oof, I guess not. Very important not to apply linearity of expectation to a non linear function to get avg"
   ]
  },
  {
   "cell_type": "code",
   "execution_count": 24,
   "metadata": {},
   "outputs": [],
   "source": [
    "import matplotlib.pyplot as plt\n",
    "import numpy as np\n",
    "%matplotlib inline\n",
    "np.random.seed(101)"
   ]
  },
  {
   "cell_type": "code",
   "execution_count": 27,
   "metadata": {},
   "outputs": [
    {
     "data": {
      "text/plain": [
       "131072"
      ]
     },
     "execution_count": 27,
     "metadata": {},
     "output_type": "execute_result"
    }
   ],
   "source": [
    "max(x)"
   ]
  },
  {
   "cell_type": "code",
   "execution_count": 36,
   "metadata": {
    "scrolled": true
   },
   "outputs": [
    {
     "data": {
      "text/plain": [
       "64"
      ]
     },
     "execution_count": 36,
     "metadata": {},
     "output_type": "execute_result"
    }
   ],
   "source": [
    "x.sort()\n",
    "x[63*len(x)//64]"
   ]
  },
  {
   "cell_type": "code",
   "execution_count": 45,
   "metadata": {},
   "outputs": [],
   "source": [
    "from collections import Counter"
   ]
  },
  {
   "cell_type": "code",
   "execution_count": 46,
   "metadata": {
    "scrolled": true
   },
   "outputs": [
    {
     "data": {
      "text/plain": [
       "Counter({2: 5045,\n",
       "         4: 2455,\n",
       "         8: 1235,\n",
       "         16: 649,\n",
       "         32: 321,\n",
       "         64: 158,\n",
       "         128: 66,\n",
       "         256: 35,\n",
       "         512: 14,\n",
       "         1024: 12,\n",
       "         2048: 2,\n",
       "         4096: 3,\n",
       "         8192: 2,\n",
       "         16384: 1,\n",
       "         65536: 1,\n",
       "         131072: 1})"
      ]
     },
     "execution_count": 46,
     "metadata": {},
     "output_type": "execute_result"
    }
   ],
   "source": [
    "Counter(x)"
   ]
  },
  {
   "cell_type": "markdown",
   "metadata": {},
   "source": [
    "Also looks like it wouldn't have even been sensible to make that guess looking at count's of the simuation"
   ]
  },
  {
   "cell_type": "code",
   "execution_count": null,
   "metadata": {},
   "outputs": [],
   "source": []
  }
 ],
 "metadata": {
  "kernelspec": {
   "display_name": "Python 3",
   "language": "python",
   "name": "python3"
  },
  "language_info": {
   "codemirror_mode": {
    "name": "ipython",
    "version": 3
   },
   "file_extension": ".py",
   "mimetype": "text/x-python",
   "name": "python",
   "nbconvert_exporter": "python",
   "pygments_lexer": "ipython3",
   "version": "3.7.0"
  }
 },
 "nbformat": 4,
 "nbformat_minor": 2
}
