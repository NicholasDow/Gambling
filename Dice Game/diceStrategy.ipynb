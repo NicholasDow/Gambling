{
 "cells": [
  {
   "cell_type": "markdown",
   "metadata": {},
   "source": [
    "# Compare two dice"
   ]
  },
  {
   "cell_type": "code",
   "execution_count": 1,
   "metadata": {},
   "outputs": [],
   "source": [
    "from itertools import product"
   ]
  },
  {
   "cell_type": "markdown",
   "metadata": {},
   "source": [
    "This takes the cartesian product and counts all the cases where you win. So like 5 would beat 2."
   ]
  },
  {
   "cell_type": "code",
   "execution_count": 2,
   "metadata": {},
   "outputs": [],
   "source": [
    "def count_wins(dice1, dice2):\n",
    "    dice1_wins, dice2_wins = 0, 0\n",
    "    for (x,y) in product(dice1, dice2):\n",
    "        if x == y:\n",
    "            pass\n",
    "        elif x < y:\n",
    "            dice2_wins += 1\n",
    "        else:\n",
    "            dice1_wins += 1\n",
    "\n",
    "    return (dice1_wins, dice2_wins)"
   ]
  },
  {
   "cell_type": "code",
   "execution_count": 3,
   "metadata": {},
   "outputs": [],
   "source": [
    "# dice1 = [1, 2, 3, 4, 5, 6]\n",
    "# dice2 = [1, 2, 3, 4, 5, 6]\n",
    "dice1 = [1, 1, 6, 6, 8, 8]\n",
    "dice2 = [2, 2, 4, 4, 9, 9]\n",
    "\n",
    "dice1 = [1, 1, 2, 4, 5, 7]\n",
    "dice2 = [1, 2, 2, 3, 4, 7]\n",
    "\n",
    "dice1 = [1, 2, 2, 3, 4, 7]\n",
    "dice2 = [1, 2, 3, 4, 5, 6]"
   ]
  },
  {
   "cell_type": "code",
   "execution_count": 4,
   "metadata": {},
   "outputs": [
    {
     "data": {
      "text/plain": [
       "(13, 18)"
      ]
     },
     "execution_count": 4,
     "metadata": {},
     "output_type": "execute_result"
    }
   ],
   "source": [
    "count_wins(dice1, dice2)"
   ]
  },
  {
   "cell_type": "code",
   "execution_count": 5,
   "metadata": {},
   "outputs": [],
   "source": [
    "from itertools import combinations"
   ]
  },
  {
   "cell_type": "markdown",
   "metadata": {},
   "source": [
    "This just finds the die that you should pick if given a set of choices"
   ]
  },
  {
   "cell_type": "code",
   "execution_count": 6,
   "metadata": {},
   "outputs": [],
   "source": [
    "def find_the_best_dice(dices):\n",
    "    highest = -1\n",
    "    counts = [0]*len(dices)\n",
    "    for x, y in combinations(range(len(dices)), 2):\n",
    "        c1, c2 = count_wins(dices[x],dices[y])\n",
    "        if c1 == c2:\n",
    "            counts[x] += 1\n",
    "            counts[y] += 1\n",
    "        elif c1 > c2:\n",
    "            counts[x] +=1\n",
    "        elif c2 > c1:\n",
    "            counts[y] +=1\n",
    "    print(counts)\n",
    "    try:\n",
    "        highest = counts.index(len(dices)-1)\n",
    "    except:\n",
    "        pass\n",
    "\n",
    "    return highest"
   ]
  },
  {
   "cell_type": "code",
   "execution_count": 7,
   "metadata": {
    "scrolled": true
   },
   "outputs": [
    {
     "name": "stdout",
     "output_type": "stream",
     "text": [
      "[1, 1, 2]\n"
     ]
    },
    {
     "data": {
      "text/plain": [
       "2"
      ]
     },
     "execution_count": 7,
     "metadata": {},
     "output_type": "execute_result"
    }
   ],
   "source": [
    "find_the_best_dice([[1, 1, 2, 4, 5, 7], [1, 2, 2, 3, 4, 7], [1, 2, 3, 4, 5, 6]])"
   ]
  },
  {
   "cell_type": "markdown",
   "metadata": {},
   "source": [
    "This just gives you a dict back with a strategy that you should take in it. I am going to use this with the bot."
   ]
  },
  {
   "cell_type": "code",
   "execution_count": 8,
   "metadata": {},
   "outputs": [],
   "source": [
    "def compute_strategy(dices):\n",
    "    strategy = dict()\n",
    "    strategy[\"choose_first\"] = True\n",
    "    strategy[\"first_dice\"] = 0\n",
    "    \n",
    "    \n",
    "    best_strat = find_the_best_dice(dices)\n",
    "    if best_strat != -1:\n",
    "        strategy['first_dice'] = best_strat\n",
    "    else:\n",
    "        strategy['choose_first'] = False\n",
    "        strategy.pop('first_dice', None)\n",
    "        \n",
    "        for i in range(len(dices)):\n",
    "            best_alt = (0, 0)\n",
    "            for j in range(len(dices)):\n",
    "                if i != j:\n",
    "                    _ , contender = count_wins(dices[i], dices[j])\n",
    "                    if contender > best_alt[1]:\n",
    "                        best_alt = (j, contender)\n",
    "                    \n",
    "            strategy[i] = best_alt[0]\n",
    "    return strategy"
   ]
  },
  {
   "cell_type": "code",
   "execution_count": 9,
   "metadata": {},
   "outputs": [
    {
     "name": "stdout",
     "output_type": "stream",
     "text": [
      "[1, 1, 1]\n"
     ]
    },
    {
     "data": {
      "text/plain": [
       "{'choose_first': False, 0: 1, 1: 2, 2: 0}"
      ]
     },
     "execution_count": 9,
     "metadata": {},
     "output_type": "execute_result"
    }
   ],
   "source": [
    "compute_strategy([[1, 1, 4, 6, 7, 8], [2, 2, 2, 6, 7, 7], [3, 3, 3, 5, 5, 8]])"
   ]
  },
  {
   "cell_type": "code",
   "execution_count": 10,
   "metadata": {},
   "outputs": [
    {
     "name": "stdout",
     "output_type": "stream",
     "text": [
      "[0, 3, 2, 1]\n"
     ]
    },
    {
     "data": {
      "text/plain": [
       "{'choose_first': True, 'first_dice': 1}"
      ]
     },
     "execution_count": 10,
     "metadata": {},
     "output_type": "execute_result"
    }
   ],
   "source": [
    "compute_strategy([[4, 4, 4, 4, 0, 0], [7, 7, 3, 3, 3, 3], [6, 6, 2, 2, 2, 2], [5, 5, 5, 1, 1, 1]])"
   ]
  }
 ],
 "metadata": {
  "kernelspec": {
   "display_name": "Python 3",
   "language": "python",
   "name": "python3"
  },
  "language_info": {
   "codemirror_mode": {
    "name": "ipython",
    "version": 3
   },
   "file_extension": ".py",
   "mimetype": "text/x-python",
   "name": "python",
   "nbconvert_exporter": "python",
   "pygments_lexer": "ipython3",
   "version": "3.7.0"
  }
 },
 "nbformat": 4,
 "nbformat_minor": 2
}
