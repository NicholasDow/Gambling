{
 "cells": [
  {
   "cell_type": "markdown",
   "metadata": {},
   "source": [
    "# Airplane problem probability simulator\n",
    "\n",
    "The goal of this note book is to test different versions of the airplane problem to confirm answers.\n",
    "\n",
    "The airplane problem is a trick question that ultimately has a very simple answer that is not intuitive at first glance. It asks what probability the last passenger getting onto the plane has of getting their assigned seat if the first person on the plane guesses."
   ]
  },
  {
   "cell_type": "code",
   "execution_count": 1,
   "metadata": {},
   "outputs": [],
   "source": [
    "import random"
   ]
  },
  {
   "cell_type": "code",
   "execution_count": 8,
   "metadata": {},
   "outputs": [],
   "source": [
    "def airplane(n_seats, number):\n",
    "    \n",
    "    # the number of seats should always be greater than the passenger number we are interested in\n",
    "    # so when we are given a number that is too high we just assume they wanted the last passenger\n",
    "    if n_seats < number:\n",
    "        print('you wanted passenger ', number, ' on a plane with ', n_seats, ' seats?')\n",
    "        number  = n_seats\n",
    "        print('just assumingn you want the last one')\n",
    "\n",
    "    # Making empty plane\n",
    "    seats = {i:'empty' for i in range(n_seats)}\n",
    "    \n",
    "    # randint will will return a number out of the dict range unless we do this\n",
    "    n_seats = n_seats - 1\n",
    "    \n",
    "    # We give the first passenger, also known as the asshole or nick, a random seat\n",
    "    \n",
    "    asshole = random.randint(0, n_seats)\n",
    "    nick = asshole\n",
    "    seats[nick] = 'filled'\n",
    "    \n",
    "    # The other passengers try to sit in their assigned seat, but will sit randomly if it's filled\n",
    "    \n",
    "    for passenger in range(1, number-1):\n",
    "        if seats[passenger] == 'filled' :\n",
    "            random_sit = random.randint(0, n_seats)\n",
    "            while seats[random_sit] == 'filled':\n",
    "                random_sit = random.randint(0, n_seats)\n",
    "            seats[random_sit] = 'filled'\n",
    "        else:\n",
    "            seats[passenger] = 'filled'\n",
    "    \n",
    "    # returns 1 or 0 for prob function\n",
    "    return 1 if seats[number-1] == 'empty' else 0\n",
    "\n",
    "    \n",
    "    "
   ]
  },
  {
   "cell_type": "code",
   "execution_count": 9,
   "metadata": {},
   "outputs": [],
   "source": [
    "def prob(attempts, n_seats, number):\n",
    "    li = [airplane(n_seats, number) for _ in range(attempts)]\n",
    "    \n",
    "    return sum(li)/len(li)"
   ]
  },
  {
   "cell_type": "code",
   "execution_count": 10,
   "metadata": {
    "scrolled": false
   },
   "outputs": [
    {
     "data": {
      "text/plain": [
       "0.501"
      ]
     },
     "execution_count": 10,
     "metadata": {},
     "output_type": "execute_result"
    }
   ],
   "source": [
    "prob(1000, 100, 100)"
   ]
  },
  {
   "cell_type": "code",
   "execution_count": 23,
   "metadata": {},
   "outputs": [
    {
     "data": {
      "text/plain": [
       "0.993"
      ]
     },
     "execution_count": 23,
     "metadata": {},
     "output_type": "execute_result"
    }
   ],
   "source": [
    "prob(1000, 100, 100)"
   ]
  },
  {
   "cell_type": "code",
   "execution_count": 27,
   "metadata": {},
   "outputs": [],
   "source": [
    "y = [prob(10000, 100, i+1) for i in range(100)]\n",
    "x = [i for i in range(1, 101)]\n"
   ]
  },
  {
   "cell_type": "code",
   "execution_count": 28,
   "metadata": {},
   "outputs": [
    {
     "data": {
      "image/png": "[encoded data removed]",
      "text/plain": [
       "<Figure size 432x288 with 1 Axes>"
      ]
     },
     "metadata": {
      "needs_background": "light"
     },
     "output_type": "display_data"
    }
   ],
   "source": [
    "import matplotlib.pyplot as plt\n",
    "plt.plot(x, y)\n",
    "plt.show()"
   ]
  },
  {
   "cell_type": "markdown",
   "metadata": {},
   "source": [
    "This confirms that if you wanted to get the probability that the 75th passenger on a 100 seat flight finds their seat, it would be (100 - 75)/(100 - 75 + 1)"
   ]
  },
  {
   "cell_type": "code",
   "execution_count": null,
   "metadata": {},
   "outputs": [],
   "source": []
  }
 ],
 "metadata": {
  "kernelspec": {
   "display_name": "Python 3",
   "language": "python",
   "name": "python3"
  },
  "language_info": {
   "codemirror_mode": {
    "name": "ipython",
    "version": 3
   },
   "file_extension": ".py",
   "mimetype": "text/x-python",
   "name": "python",
   "nbconvert_exporter": "python",
   "pygments_lexer": "ipython3",
   "version": "3.7.0"
  }
 },
 "nbformat": 4,
 "nbformat_minor": 2
}
